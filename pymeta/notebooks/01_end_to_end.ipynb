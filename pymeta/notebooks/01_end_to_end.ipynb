{
 "cells": [
  {
   "cell_type": "markdown",
   "metadata": {},
   "source": [
    "# End-to-End Meta-Analysis with PyMeta\n",
    "\n",
    "This notebook demonstrates a complete meta-analysis workflow using PyMeta, from data loading to publication-ready results."
   ]
  },
  {
   "cell_type": "markdown",
   "metadata": {},
   "source": [
    "## 1. Setup and Data Loading"
   ]
  },
  {
   "cell_type": "code",
   "execution_count": null,
   "metadata": {},
   "outputs": [],
   "source": [
    "import numpy as np\n",
    "import pandas as pd\n",
    "import matplotlib.pyplot as plt\n",
    "import seaborn as sns\n",
    "\n",
    "# Import PyMeta\n",
    "import pymeta as pm\n",
    "\n",
    "# Configure plotting\n",
    "plt.style.use('seaborn-v0_8')\n",
    "sns.set_palette(\"husl\")\n",
    "%matplotlib inline"
   ]
  },
  {
   "cell_type": "code",
   "execution_count": null,
   "metadata": {},
   "outputs": [],
   "source": [
    "# Load example data\n",
    "data = pm.load_example_data('binary_outcomes')\n",
    "print(f\"Loaded {len(data)} studies\")\n",
    "data.head()"
   ]
  },
  {
   "cell_type": "markdown",
   "metadata": {},
   "source": [
    "## 2. Data Exploration"
   ]
  },
  {
   "cell_type": "code",
   "execution_count": null,
   "metadata": {},
   "outputs": [],
   "source": [
    "# Basic data summary\n",
    "print(\"Study characteristics:\")\n",
    "print(f\"- Publication years: {data['year'].min()} - {data['year'].max()}\")\n",
    "print(f\"- Sample sizes: {data['total_n'].min()} - {data['total_n'].max()}\")\n",
    "print(f\"- Event rates: {data['event_rate'].min():.1%} - {data['event_rate'].max():.1%}\")"
   ]
  },
  {
   "cell_type": "code",
   "execution_count": null,
   "metadata": {},
   "outputs": [],
   "source": [
    "# Visualize study characteristics\n",
    "fig, axes = plt.subplots(1, 3, figsize=(15, 5))\n",
    "\n",
    "# Publication timeline\n",
    "axes[0].hist(data['year'], bins=10, alpha=0.7)\n",
    "axes[0].set_xlabel('Publication Year')\n",
    "axes[0].set_ylabel('Number of Studies')\n",
    "axes[0].set_title('Study Publication Timeline')\n",
    "\n",
    "# Sample size distribution\n",
    "axes[1].hist(data['total_n'], bins=10, alpha=0.7)\n",
    "axes[1].set_xlabel('Total Sample Size')\n",
    "axes[1].set_ylabel('Number of Studies')\n",
    "axes[1].set_title('Sample Size Distribution')\n",
    "\n",
    "# Effect size vs sample size\n",
    "axes[2].scatter(data['total_n'], data['effect_size'], alpha=0.7)\n",
    "axes[2].set_xlabel('Total Sample Size')\n",
    "axes[2].set_ylabel('Effect Size')\n",
    "axes[2].set_title('Effect Size vs Sample Size')\n",
    "\n",
    "plt.tight_layout()\n",
    "plt.show()"
   ]
  },
  {
   "cell_type": "markdown",
   "metadata": {},
   "source": [
    "## 3. Meta-Analysis"
   ]
  },
  {
   "cell_type": "code",
   "execution_count": null,
   "metadata": {},
   "outputs": [],
   "source": [
    "# Fixed-effect meta-analysis\n",
    "fixed_result = pm.meta_analysis(data, model='fixed')\n",
    "\n",
    "print(\"Fixed-Effect Model:\")\n",
    "print(f\"Overall effect: {fixed_result.overall_effect:.3f}\")\n",
    "print(f\"95% CI: [{fixed_result.ci_lower:.3f}, {fixed_result.ci_upper:.3f}]\")\n",
    "print(f\"p-value: {fixed_result.pvalue:.3f}\")"
   ]
  },
  {
   "cell_type": "code",
   "execution_count": null,
   "metadata": {},
   "outputs": [],
   "source": [
    "# Random-effects meta-analysis\n",
    "random_result = pm.meta_analysis(data, model='random', tau2_method='reml')\n",
    "\n",
    "print(\"Random-Effects Model (REML):\")\n",
    "print(f\"Overall effect: {random_result.overall_effect:.3f}\")\n",
    "print(f\"95% CI: [{random_result.ci_lower:.3f}, {random_result.ci_upper:.3f}]\")\n",
    "print(f\"p-value: {random_result.pvalue:.3f}\")\n",
    "print(f\"Tau²: {random_result.tau_squared:.3f}\")\n",
    "print(f\"I²: {random_result.i_squared:.1f}%\")"
   ]
  },
  {
   "cell_type": "markdown",
   "metadata": {},
   "source": [
    "## 4. Heterogeneity Assessment"
   ]
  },
  {
   "cell_type": "code",
   "execution_count": null,
   "metadata": {},
   "outputs": [],
   "source": [
    "# Test for heterogeneity\n",
    "print(f\"Cochran's Q: {random_result.q_statistic:.2f}\")\n",
    "print(f\"Q p-value: {random_result.q_pvalue:.3f}\")\n",
    "print(f\"I² statistic: {random_result.i_squared:.1f}%\")\n",
    "\n",
    "if random_result.q_pvalue < 0.05:\n",
    "    print(\"\\n✓ Significant heterogeneity detected\")\n",
    "    print(\"Random-effects model is appropriate\")\n",
    "else:\n",
    "    print(\"\\n→ No significant heterogeneity\")\n",
    "    print(\"Fixed-effect model may be sufficient\")"
   ]
  },
  {
   "cell_type": "code",
   "execution_count": null,
   "metadata": {},
   "outputs": [],
   "source": [
    "# Diagnostic plots for heterogeneity\n",
    "fig, axes = plt.subplots(2, 2, figsize=(12, 10))\n",
    "\n",
    "# Baujat plot\n",
    "pm.baujat_plot(random_result, ax=axes[0, 0], title='Baujat Plot')\n",
    "\n",
    "# Radial plot\n",
    "pm.radial_plot(random_result, ax=axes[0, 1], title='Radial Plot')\n",
    "\n",
    "# L'Abbe plot\n",
    "pm.labbe_plot(data, ax=axes[1, 0], title=\"L'Abbe Plot\")\n",
    "\n",
    "# GOSH plot\n",
    "pm.gosh_plot(random_result, ax=axes[1, 1], title='GOSH Plot')\n",
    "\n",
    "plt.tight_layout()\n",
    "plt.show()"
   ]
  },
  {
   "cell_type": "markdown",
   "metadata": {},
   "source": [
    "## 5. Publication Bias Assessment"
   ]
  },
  {
   "cell_type": "code",
   "execution_count": null,
   "metadata": {},
   "outputs": [],
   "source": [
    "# Funnel plot\n",
    "fig, axes = plt.subplots(1, 2, figsize=(12, 5))\n",
    "\n",
    "# Basic funnel plot\n",
    "pm.funnel_plot(random_result, ax=axes[0], title='Funnel Plot')\n",
    "\n",
    "# Funnel plot with contour lines\n",
    "pm.funnel_plot(random_result, ax=axes[1], contours=True, title='Funnel Plot with Contours')\n",
    "\n",
    "plt.tight_layout()\n",
    "plt.show()"
   ]
  },
  {
   "cell_type": "code",
   "execution_count": null,
   "metadata": {},
   "outputs": [],
   "source": [
    "# Statistical tests for publication bias\n",
    "egger_result = pm.egger_test(data)\n",
    "begg_result = pm.begg_test(data)\n",
    "\n",
    "print(\"Publication Bias Tests:\")\n",
    "print(\"-\" * 25)\n",
    "print(f\"Egger's test: p = {egger_result.pvalue:.3f}\")\n",
    "print(f\"Begg's test: p = {begg_result.pvalue:.3f}\")\n",
    "\n",
    "if egger_result.pvalue < 0.05 or begg_result.pvalue < 0.05:\n",
    "    print(\"\\n⚠️  Evidence of publication bias detected\")\n",
    "else:\n",
    "    print(\"\\n✓ No significant evidence of publication bias\")"
   ]
  },
  {
   "cell_type": "code",
   "execution_count": null,
   "metadata": {},
   "outputs": [],
   "source": [
    "# Trim-and-fill analysis\n",
    "tf_result = pm.trim_and_fill(data)\n",
    "\n",
    "print(f\"Trim-and-Fill Analysis:\")\n",
    "print(\"-\" * 25)\n",
    "print(f\"Studies trimmed: {tf_result.n_trimmed}\")\n",
    "print(f\"Studies filled: {tf_result.n_filled}\")\n",
    "print(f\"Adjusted effect: {tf_result.adjusted_effect:.3f}\")\n",
    "print(f\"Adjusted 95% CI: [{tf_result.ci_lower:.3f}, {tf_result.ci_upper:.3f}]\")\n",
    "\n",
    "# Plot trim-and-fill results\n",
    "fig, ax = plt.subplots(figsize=(8, 6))\n",
    "pm.trim_fill_plot(tf_result, ax=ax, title='Trim-and-Fill Analysis')\n",
    "plt.show()"
   ]
  },
  {
   "cell_type": "markdown",
   "metadata": {},
   "source": [
    "## 6. Sensitivity Analysis"
   ]
  },
  {
   "cell_type": "code",
   "execution_count": null,
   "metadata": {},
   "outputs": [],
   "source": [
    "# Leave-one-out analysis\n",
    "loo_result = pm.leave_one_out(data)\n",
    "\n",
    "print(\"Leave-One-Out Analysis:\")\n",
    "print(\"-\" * 25)\n",
    "print(f\"Effect size range: {loo_result.min_effect:.3f} to {loo_result.max_effect:.3f}\")\n",
    "print(f\"Most influential study: {loo_result.most_influential_study}\")\n",
    "print(f\"Influence measure: {loo_result.max_influence:.3f}\")\n",
    "\n",
    "# Plot influence analysis\n",
    "fig, ax = plt.subplots(figsize=(10, 6))\n",
    "pm.influence_plot(loo_result, ax=ax, title='Leave-One-Out Influence Analysis')\n",
    "plt.show()"
   ]
  },
  {
   "cell_type": "code",
   "execution_count": null,
   "metadata": {},
   "outputs": [],
   "source": [
    "# Cumulative meta-analysis\n",
    "cum_result = pm.cumulative_analysis(data, order_by='year')\n",
    "\n",
    "# Plot cumulative analysis\n",
    "fig, ax = plt.subplots(figsize=(12, 6))\n",
    "pm.cumulative_plot(cum_result, ax=ax, title='Cumulative Meta-Analysis by Publication Year')\n",
    "plt.show()"
   ]
  },
  {
   "cell_type": "markdown",
   "metadata": {},
   "source": [
    "## 7. Final Results and Forest Plot"
   ]
  },
  {
   "cell_type": "code",
   "execution_count": null,
   "metadata": {},
   "outputs": [],
   "source": [
    "# Create publication-ready forest plot\n",
    "fig, ax = plt.subplots(figsize=(12, 8))\n",
    "\n",
    "forest_plot = pm.forest_plot(\n",
    "    random_result,\n",
    "    ax=ax,\n",
    "    style='publication',\n",
    "    title='Meta-Analysis of Intervention X vs Control',\n",
    "    xlabel='Risk Ratio (95% CI)',\n",
    "    show_weights=True,\n",
    "    study_labels='left'\n",
    ")\n",
    "\n",
    "plt.tight_layout()\n",
    "plt.show()"
   ]
  },
  {
   "cell_type": "markdown",
   "metadata": {},
   "source": [
    "## 8. Summary and Interpretation"
   ]
  },
  {
   "cell_type": "code",
   "execution_count": null,
   "metadata": {},
   "outputs": [],
   "source": [
    "# Generate summary table\n",
    "summary = pm.create_summary_table([fixed_result, random_result], \n",
    "                                 labels=['Fixed-Effect', 'Random-Effects'])\n",
    "\n",
    "print(\"Meta-Analysis Summary:\")\n",
    "print(\"=\" * 50)\n",
    "display(summary)\n",
    "\n",
    "print(\"\\nKey Findings:\")\n",
    "print(\"-\" * 15)\n",
    "print(f\"• {len(data)} studies included ({data['total_n'].sum():,} participants)\")\n",
    "print(f\"• Random-effects pooled estimate: {random_result.overall_effect:.3f} (95% CI: {random_result.ci_lower:.3f}, {random_result.ci_upper:.3f})\")\n",
    "print(f\"• Moderate heterogeneity: I² = {random_result.i_squared:.1f}%\")\n",
    "print(f\"• {('No significant' if egger_result.pvalue >= 0.05 else 'Evidence of')} publication bias\")\n",
    "print(f\"• Results stable in sensitivity analyses\")"
   ]
  },
  {
   "cell_type": "markdown",
   "metadata": {},
   "source": [
    "## 9. Export Results"
   ]
  },
  {
   "cell_type": "code",
   "execution_count": null,
   "metadata": {},
   "outputs": [],
   "source": [
    "# Export results to various formats\n",
    "pm.export_results(random_result, \n",
    "                 formats=['csv', 'excel', 'json'],\n",
    "                 filename='meta_analysis_results')\n",
    "\n",
    "# Save forest plot\n",
    "fig.savefig('forest_plot.png', dpi=300, bbox_inches='tight')\n",
    "fig.savefig('forest_plot.pdf', bbox_inches='tight')\n",
    "\n",
    "print(\"Results exported successfully!\")\n",
    "print(\"Files created:\")\n",
    "print(\"- meta_analysis_results.csv\")\n",
    "print(\"- meta_analysis_results.xlsx\")\n",
    "print(\"- meta_analysis_results.json\")\n",
    "print(\"- forest_plot.png\")\n",
    "print(\"- forest_plot.pdf\")"
   ]
  },
  {
   "cell_type": "markdown",
   "metadata": {},
   "source": [
    "## Conclusion\n",
    "\n",
    "This notebook demonstrated a complete meta-analysis workflow using PyMeta:\n",
    "\n",
    "1. **Data exploration** - Understanding study characteristics\n",
    "2. **Effect size pooling** - Fixed and random-effects models\n",
    "3. **Heterogeneity assessment** - Statistical tests and diagnostic plots\n",
    "4. **Publication bias evaluation** - Funnel plots and statistical tests\n",
    "5. **Sensitivity analysis** - Leave-one-out and cumulative analysis\n",
    "6. **Results presentation** - Forest plots and summary tables\n",
    "7. **Export functionality** - Multiple output formats\n",
    "\n",
    "PyMeta provides a comprehensive toolkit for rigorous meta-analysis in Python, with publication-ready visualizations and robust statistical methods."
   ]
  }
 ],
 "metadata": {
  "kernelspec": {
   "display_name": "Python 3",
   "language": "python",
   "name": "python3"
  },
  "language_info": {
   "codemirror_mode": {
    "name": "ipython",
    "version": 3
   },
   "file_extension": ".py",
   "mimetype": "text/x-python",
   "name": "python",
   "nbconvert_exporter": "python",
   "pygments_lexer": "ipython3",
   "version": "3.9.0"
  }
 },
 "nbformat": 4,
 "nbformat_minor": 4
}