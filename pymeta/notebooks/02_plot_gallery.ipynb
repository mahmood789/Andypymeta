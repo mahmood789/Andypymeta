{
 "cells": [
  {
   "cell_type": "markdown",
   "metadata": {},
   "source": [
    "# PyMeta Plot Gallery\n",
    "\n",
    "This notebook showcases the various plotting capabilities available in PyMeta for meta-analysis visualization."
   ]
  },
  {
   "cell_type": "code",
   "execution_count": null,
   "metadata": {},
   "outputs": [],
   "source": [
    "import numpy as np\n",
    "import pandas as pd\n",
    "import matplotlib.pyplot as plt\n",
    "import seaborn as sns\n",
    "import pymeta as pm\n",
    "\n",
    "# Set up plotting\n",
    "plt.style.use('seaborn-v0_8')\n",
    "sns.set_palette(\"Set2\")\n",
    "%matplotlib inline"
   ]
  },
  {
   "cell_type": "markdown",
   "metadata": {},
   "source": [
    "## Sample Data Generation"
   ]
  },
  {
   "cell_type": "code",
   "execution_count": null,
   "metadata": {},
   "outputs": [],
   "source": [
    "# Generate sample data for demonstrations\n",
    "np.random.seed(42)\n",
    "\n",
    "# Binary outcome data\n",
    "binary_data = pm.create_sample_data('binary', n_studies=15)\n",
    "\n",
    "# Continuous outcome data\n",
    "continuous_data = pm.create_sample_data('continuous', n_studies=12)\n",
    "\n",
    "# Perform meta-analyses\n",
    "binary_result = pm.meta_analysis(binary_data, model='random')\n",
    "continuous_result = pm.meta_analysis(continuous_data, model='random')\n",
    "\n",
    "print(f\"Binary data: {len(binary_data)} studies\")\n",
    "print(f\"Continuous data: {len(continuous_data)} studies\")"
   ]
  },
  {
   "cell_type": "markdown",
   "metadata": {},
   "source": [
    "## 1. Forest Plots"
   ]
  },
  {
   "cell_type": "code",
   "execution_count": null,
   "metadata": {},
   "outputs": [],
   "source": [
    "# Classic forest plot\n",
    "fig, ax = plt.subplots(figsize=(12, 8))\n",
    "pm.forest_plot(binary_result, ax=ax, style='classic', title='Classic Forest Plot')\n",
    "plt.tight_layout()\n",
    "plt.show()"
   ]
  },
  {
   "cell_type": "code",
   "execution_count": null,
   "metadata": {},
   "outputs": [],
   "source": [
    "# Modern forest plot with customization\n",
    "fig, ax = plt.subplots(figsize=(12, 8))\n",
    "pm.forest_plot(\n",
    "    continuous_result, \n",
    "    ax=ax, \n",
    "    style='modern',\n",
    "    title='Modern Forest Plot - Standardized Mean Difference',\n",
    "    xlabel='SMD (95% CI)',\n",
    "    show_weights=True,\n",
    "    square_size_scale=1.5,\n",
    "    diamond_color='darkblue'\n",
    ")\n",
    "plt.tight_layout()\n",
    "plt.show()"
   ]
  },
  {
   "cell_type": "code",
   "execution_count": null,
   "metadata": {},
   "outputs": [],
   "source": [
    "# Subgroup forest plot\n",
    "# Add subgroup variable to data\n",
    "binary_data['subgroup'] = np.random.choice(['Group A', 'Group B'], len(binary_data))\n",
    "subgroup_result = pm.subgroup_analysis(binary_data, grouping_var='subgroup')\n",
    "\n",
    "fig, ax = plt.subplots(figsize=(12, 10))\n",
    "pm.subgroup_forest_plot(\n",
    "    subgroup_result, \n",
    "    ax=ax,\n",
    "    title='Subgroup Forest Plot',\n",
    "    show_overall=True\n",
    ")\n",
    "plt.tight_layout()\n",
    "plt.show()"
   ]
  },
  {
   "cell_type": "markdown",
   "metadata": {},
   "source": [
    "## 2. Funnel Plots"
   ]
  },
  {
   "cell_type": "code",
   "execution_count": null,
   "metadata": {},
   "outputs": [],
   "source": [
    "# Basic funnel plot\n",
    "fig, axes = plt.subplots(2, 2, figsize=(12, 10))\n",
    "\n",
    "# Standard funnel plot\n",
    "pm.funnel_plot(binary_result, ax=axes[0,0], title='Standard Funnel Plot')\n",
    "\n",
    "# Funnel plot with contour lines\n",
    "pm.funnel_plot(binary_result, ax=axes[0,1], contours=True, title='Funnel Plot with Contours')\n",
    "\n",
    "# Funnel plot with different precision measure\n",
    "pm.funnel_plot(binary_result, ax=axes[1,0], precision='sample_size', title='Funnel Plot (Sample Size)')\n",
    "\n",
    "# Enhanced funnel plot with study labels\n",
    "pm.funnel_plot(binary_result, ax=axes[1,1], show_studies=True, title='Funnel Plot with Study Labels')\n",
    "\n",
    "plt.tight_layout()\n",
    "plt.show()"
   ]
  },
  {
   "cell_type": "markdown",
   "metadata": {},
   "source": [
    "## 3. Diagnostic Plots"
   ]
  },
  {
   "cell_type": "code",
   "execution_count": null,
   "metadata": {},
   "outputs": [],
   "source": [
    "# Diagnostic plots for heterogeneity and influence\n",
    "fig, axes = plt.subplots(2, 2, figsize=(14, 10))\n",
    "\n",
    "# Baujat plot\n",
    "pm.baujat_plot(binary_result, ax=axes[0,0], title='Baujat Plot')\n",
    "\n",
    "# Radial plot\n",
    "pm.radial_plot(binary_result, ax=axes[0,1], title='Radial Plot')\n",
    "\n",
    "# L'Abbe plot\n",
    "pm.labbe_plot(binary_data, ax=axes[1,0], title=\"L'Abbe Plot\")\n",
    "\n",
    "# GOSH plot (subset)\n",
    "pm.gosh_plot(binary_result, ax=axes[1,1], n_subsets=1000, title='GOSH Plot')\n",
    "\n",
    "plt.tight_layout()\n",
    "plt.show()"
   ]
  },
  {
   "cell_type": "markdown",
   "metadata": {},
   "source": [
    "## 4. Bias Assessment Plots"
   ]
  },
  {
   "cell_type": "code",
   "execution_count": null,
   "metadata": {},
   "outputs": [],
   "source": [
    "# Publication bias assessment\n",
    "fig, axes = plt.subplots(2, 2, figsize=(12, 10))\n",
    "\n",
    "# Trim-and-fill\n",
    "tf_result = pm.trim_and_fill(binary_data)\n",
    "pm.trim_fill_plot(tf_result, ax=axes[0,0], title='Trim-and-Fill Analysis')\n",
    "\n",
    "# Egger's regression\n",
    "egger_result = pm.egger_test(binary_data)\n",
    "pm.egger_plot(egger_result, ax=axes[0,1], title=\"Egger's Regression Test\")\n",
    "\n",
    "# PET-PEESE plot\n",
    "pet_result = pm.pet_analysis(binary_data)\n",
    "pm.pet_plot(pet_result, ax=axes[1,0], title='PET Analysis')\n",
    "\n",
    "# Selection model funnel\n",
    "pm.selection_funnel_plot(binary_data, ax=axes[1,1], title='Selection Model Funnel')\n",
    "\n",
    "plt.tight_layout()\n",
    "plt.show()"
   ]
  },
  {
   "cell_type": "markdown",
   "metadata": {},
   "source": [
    "## 5. Sensitivity Analysis Plots"
   ]
  },
  {
   "cell_type": "code",
   "execution_count": null,
   "metadata": {},
   "outputs": [],
   "source": [
    "# Sensitivity and influence analysis\n",
    "fig, axes = plt.subplots(2, 2, figsize=(14, 10))\n",
    "\n",
    "# Leave-one-out analysis\n",
    "loo_result = pm.leave_one_out(binary_data)\n",
    "pm.influence_plot(loo_result, ax=axes[0,0], title='Leave-One-Out Analysis')\n",
    "\n",
    "# Cumulative meta-analysis\n",
    "cum_result = pm.cumulative_analysis(binary_data, order_by='year')\n",
    "pm.cumulative_plot(cum_result, ax=axes[0,1], title='Cumulative Meta-Analysis')\n",
    "\n",
    "# Bootstrap analysis\n",
    "boot_result = pm.bootstrap_analysis(binary_data, n_bootstrap=1000)\n",
    "pm.bootstrap_plot(boot_result, ax=axes[1,0], title='Bootstrap Distribution')\n",
    "\n",
    "# Jackknife analysis\n",
    "jack_result = pm.jackknife_analysis(binary_data)\n",
    "pm.jackknife_plot(jack_result, ax=axes[1,1], title='Jackknife Analysis')\n",
    "\n",
    "plt.tight_layout()\n",
    "plt.show()"
   ]
  },
  {
   "cell_type": "markdown",
   "metadata": {},
   "source": [
    "## 6. Meta-Regression Plots"
   ]
  },
  {
   "cell_type": "code",
   "execution_count": null,
   "metadata": {},
   "outputs": [],
   "source": [
    "# Meta-regression analysis\n",
    "# Add continuous moderator\n",
    "binary_data['year_centered'] = binary_data['year'] - binary_data['year'].mean()\n",
    "metareg_result = pm.meta_regression(binary_data, moderators=['year_centered'])\n",
    "\n",
    "fig, axes = plt.subplots(2, 2, figsize=(12, 10))\n",
    "\n",
    "# Bubble plot\n",
    "pm.metaregression_plot(metareg_result, ax=axes[0,0], \n",
    "                      x_var='year_centered', title='Meta-Regression: Effect vs Year')\n",
    "\n",
    "# Residual plot\n",
    "pm.residual_plot(metareg_result, ax=axes[0,1], title='Residual Plot')\n",
    "\n",
    "# QQ plot of residuals\n",
    "pm.qq_plot(metareg_result, ax=axes[1,0], title='Q-Q Plot of Residuals')\n",
    "\n",
    "# Influence plot for meta-regression\n",
    "pm.regression_influence_plot(metareg_result, ax=axes[1,1], title='Meta-Regression Influence')\n",
    "\n",
    "plt.tight_layout()\n",
    "plt.show()"
   ]
  },
  {
   "cell_type": "markdown",
   "metadata": {},
   "source": [
    "## 7. Specialty Plots"
   ]
  },
  {
   "cell_type": "code",
   "execution_count": null,
   "metadata": {},
   "outputs": [],
   "source": [
    "# Specialized visualization\n",
    "fig, axes = plt.subplots(2, 2, figsize=(14, 10))\n",
    "\n",
    "# Risk of bias plot\n",
    "# Add risk of bias data\n",
    "rob_data = pm.create_rob_data(binary_data)\n",
    "pm.rob_plot(rob_data, ax=axes[0,0], title='Risk of Bias Summary')\n",
    "\n",
    "# Network plot (placeholder)\n",
    "network_data = pm.create_network_data()\n",
    "pm.network_plot(network_data, ax=axes[0,1], title='Network Plot')\n",
    "\n",
    "# P-curve plot\n",
    "pcurve_result = pm.pcurve_analysis(binary_data)\n",
    "pm.pcurve_plot(pcurve_result, ax=axes[1,0], title='P-Curve Analysis')\n",
    "\n",
    "# Z-curve plot\n",
    "zcurve_result = pm.zcurve_analysis(binary_data)\n",
    "pm.zcurve_plot(zcurve_result, ax=axes[1,1], title='Z-Curve Analysis')\n",
    "\n",
    "plt.tight_layout()\n",
    "plt.show()"
   ]
  },
  {
   "cell_type": "markdown",
   "metadata": {},
   "source": [
    "## 8. Interactive Plots"
   ]
  },
  {
   "cell_type": "code",
   "execution_count": null,
   "metadata": {},
   "outputs": [],
   "source": [
    "# Interactive plotting with Plotly (optional)\n",
    "try:\n",
    "    import plotly.graph_objects as go\n",
    "    import plotly.express as px\n",
    "    \n",
    "    # Interactive forest plot\n",
    "    interactive_forest = pm.interactive_forest_plot(binary_result)\n",
    "    interactive_forest.show()\n",
    "    \n",
    "    # Interactive funnel plot\n",
    "    interactive_funnel = pm.interactive_funnel_plot(binary_result)\n",
    "    interactive_funnel.show()\n",
    "    \n",
    "except ImportError:\n",
    "    print(\"Plotly not available. Install with: pip install plotly\")"
   ]
  },
  {
   "cell_type": "markdown",
   "metadata": {},
   "source": [
    "## 9. Custom Styling"
   ]
  },
  {
   "cell_type": "code",
   "execution_count": null,
   "metadata": {},
   "outputs": [],
   "source": [
    "# Demonstrate custom styling\n",
    "fig, axes = plt.subplots(2, 2, figsize=(14, 10))\n",
    "\n",
    "# Publication style\n",
    "pm.forest_plot(binary_result, ax=axes[0,0], style='publication', \n",
    "              title='Publication Style')\n",
    "\n",
    "# Minimal style\n",
    "pm.forest_plot(binary_result, ax=axes[0,1], style='minimal',\n",
    "              title='Minimal Style')\n",
    "\n",
    "# Custom color scheme\n",
    "custom_colors = {'squares': 'darkgreen', 'diamond': 'orange', 'lines': 'gray'}\n",
    "pm.forest_plot(binary_result, ax=axes[1,0], colors=custom_colors,\n",
    "              title='Custom Colors')\n",
    "\n",
    "# High contrast (accessibility)\n",
    "pm.forest_plot(binary_result, ax=axes[1,1], style='high_contrast',\n",
    "              title='High Contrast (Accessible)')\n",
    "\n",
    "plt.tight_layout()\n",
    "plt.show()"
   ]
  },
  {
   "cell_type": "markdown",
   "metadata": {},
   "source": [
    "## 10. Export Options"
   ]
  },
  {
   "cell_type": "code",
   "execution_count": null,
   "metadata": {},
   "outputs": [],
   "source": [
    "# Demonstrate export capabilities\n",
    "\n",
    "# High-resolution export\n",
    "fig, ax = plt.subplots(figsize=(12, 8))\n",
    "pm.forest_plot(binary_result, ax=ax, style='publication')\n",
    "\n",
    "# Save in multiple formats\n",
    "fig.savefig('forest_plot_hires.png', dpi=300, bbox_inches='tight')\n",
    "fig.savefig('forest_plot.pdf', bbox_inches='tight')\n",
    "fig.savefig('forest_plot.svg', bbox_inches='tight')\n",
    "fig.savefig('forest_plot.eps', bbox_inches='tight')\n",
    "\n",
    "plt.show()\n",
    "\n",
    "print(\"Plots exported to:\")\n",
    "print(\"- forest_plot_hires.png (300 DPI)\")\n",
    "print(\"- forest_plot.pdf (vector)\")\n",
    "print(\"- forest_plot.svg (vector)\")\n",
    "print(\"- forest_plot.eps (vector)\")"
   ]
  },
  {
   "cell_type": "markdown",
   "metadata": {},
   "source": [
    "## Summary\n",
    "\n",
    "This notebook showcased the comprehensive plotting capabilities of PyMeta:\n",
    "\n",
    "1. **Forest Plots** - Multiple styles and customization options\n",
    "2. **Funnel Plots** - Publication bias assessment with various enhancements\n",
    "3. **Diagnostic Plots** - Heterogeneity and outlier detection\n",
    "4. **Bias Assessment** - Comprehensive publication bias evaluation\n",
    "5. **Sensitivity Analysis** - Robustness testing visualizations\n",
    "6. **Meta-Regression** - Moderator analysis plots\n",
    "7. **Specialty Plots** - Advanced and specialized visualizations\n",
    "8. **Interactive Plots** - Web-based interactive visualizations\n",
    "9. **Custom Styling** - Themes and accessibility options\n",
    "10. **Export Options** - High-quality output in multiple formats\n",
    "\n",
    "PyMeta provides publication-ready visualizations with extensive customization options for all aspects of meta-analysis."
   ]
  }
 ],
 "metadata": {
  "kernelspec": {
   "display_name": "Python 3",
   "language": "python",
   "name": "python3"
  },
  "language_info": {
   "codemirror_mode": {
    "name": "ipython",
    "version": 3
   },
   "file_extension": ".py",
   "mimetype": "text/x-python",
   "name": "python",
   "nbconvert_exporter": "python",
   "pygments_lexer": "ipython3",
   "version": "3.9.0"
  }
 },
 "nbformat": 4,
 "nbformat_minor": 4
}